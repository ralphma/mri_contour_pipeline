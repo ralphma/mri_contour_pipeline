{
  "nbformat": 4,
  "nbformat_minor": 0,
  "metadata": {
    "colab": {
      "name": "unet_training.ipynb",
      "version": "0.3.2",
      "provenance": [],
      "collapsed_sections": []
    },
    "kernelspec": {
      "name": "python3",
      "display_name": "Python 3"
    }
  },
  "cells": [
    {
      "cell_type": "code",
      "metadata": {
        "id": "eYHdhPL6Q1fe",
        "colab_type": "code",
        "outputId": "dc47a797-0344-486d-e1cf-adece6519813",
        "colab": {
          "base_uri": "https://localhost:8080/",
          "height": 34
        }
      },
      "source": [
        "from model import *\n",
        "import dataset\n",
        "import numpy as np\n",
        "from keras.preprocessing.image import ImageDataGenerator\n",
        "import matplotlib.pyplot as plt"
      ],
      "execution_count": 0,
      "outputs": [
        {
          "output_type": "stream",
          "text": [
            "Using TensorFlow backend.\n"
          ],
          "name": "stderr"
        }
      ]
    },
    {
      "cell_type": "code",
      "metadata": {
        "id": "Bq5u_c7ySBtA",
        "colab_type": "code",
        "outputId": "8ca052d6-b2da-4f19-db3a-1f4d86af8ffa",
        "colab": {
          "base_uri": "https://localhost:8080/",
          "height": 50
        }
      },
      "source": [
        "_LINK_CSV = \"final_data/link.csv\"\n",
        "_CONTOUR_DIR = \"final_data/contourfiles\"\n",
        "_DICOM_DIR = \"final_data/dicoms\"\n",
        "i_data = dataset.Dataset(shuffle_data=False,return_indefinitely=False,\n",
        "                         contour_file_glob=\"i-contours/*.txt\")\n",
        "i_data.parse_from_csv(_LINK_CSV, _DICOM_DIR, _CONTOUR_DIR)\n",
        "\n",
        "i_pd_frame = i_data.as_panda_dataframe()\n",
        "\n",
        "print(\"Found segmentation for %d i-contours\" % i_pd_frame.shape[0])\n",
        "print(\"i-contour columns: %s\" % (i_pd_frame.columns.values,))"
      ],
      "execution_count": 0,
      "outputs": [
        {
          "output_type": "stream",
          "text": [
            "Found segmentation for 96 i-contours\n",
            "i-contour columns: ['dicom_image' 'contour_image']\n"
          ],
          "name": "stdout"
        }
      ]
    },
    {
      "cell_type": "code",
      "metadata": {
        "id": "IQPw9bTxSeA5",
        "colab_type": "code",
        "colab": {}
      },
      "source": [
        "train_x = np.expand_dims(np.stack(i_pd_frame.dicom_image.values), -1)\n",
        "train_y = np.expand_dims(np.stack(i_pd_frame.contour_image.values), -1)"
      ],
      "execution_count": 0,
      "outputs": []
    },
    {
      "cell_type": "code",
      "metadata": {
        "id": "3KE0aRMBRT5R",
        "colab_type": "code",
        "colab": {}
      },
      "source": [
        "datagen = ImageDataGenerator(\n",
        "    featurewise_center=True,\n",
        "    featurewise_std_normalization=True)\n",
        "datagen.fit(train_x)"
      ],
      "execution_count": 0,
      "outputs": []
    },
    {
      "cell_type": "code",
      "metadata": {
        "id": "nw50u9tGTJPN",
        "colab_type": "code",
        "outputId": "b98634be-bf3b-4932-bdfd-08ab5fcf8f39",
        "colab": {
          "base_uri": "https://localhost:8080/",
          "height": 406
        }
      },
      "source": [
        "_BATCH_SIZE = 16\n",
        "_NUM_EPOCHS = 5\n",
        "\n",
        "model = unet()\n",
        "model.fit_generator(datagen.flow(train_x, train_y, batch_size=_BATCH_SIZE),\n",
        "                    steps_per_epoch=len(train_x) / _BATCH_SIZE, epochs=_NUM_EPOCHS)"
      ],
      "execution_count": 0,
      "outputs": [
        {
          "output_type": "stream",
          "text": [
            "WARNING:tensorflow:From /anaconda3/lib/python3.6/site-packages/tensorflow/python/framework/op_def_library.py:263: colocate_with (from tensorflow.python.framework.ops) is deprecated and will be removed in a future version.\n",
            "Instructions for updating:\n",
            "Colocations handled automatically by placer.\n",
            "WARNING:tensorflow:From /anaconda3/lib/python3.6/site-packages/keras/backend/tensorflow_backend.py:3445: calling dropout (from tensorflow.python.ops.nn_ops) with keep_prob is deprecated and will be removed in a future version.\n",
            "Instructions for updating:\n",
            "Please use `rate` instead of `keep_prob`. Rate should be set to `rate = 1 - keep_prob`.\n",
            "WARNING:tensorflow:From /anaconda3/lib/python3.6/site-packages/tensorflow/python/ops/math_ops.py:3066: to_int32 (from tensorflow.python.ops.math_ops) is deprecated and will be removed in a future version.\n",
            "Instructions for updating:\n",
            "Use tf.cast instead.\n"
          ],
          "name": "stdout"
        },
        {
          "output_type": "stream",
          "text": [
            "/Users/ralphma/Desktop/dicom_image_pipeline/model.py:52: UserWarning: Update your `Model` call to the Keras 2 API: `Model(inputs=Tensor(\"in..., outputs=Tensor(\"co...)`\n",
            "  model = Model(input=inputs, output=conv10)\n"
          ],
          "name": "stderr"
        },
        {
          "output_type": "stream",
          "text": [
            "Epoch 1/5\n",
            "5/5 [==============================] - 274s 55s/step - loss: 1.5962 - acc: 0.6747\n",
            "Epoch 2/5\n",
            "5/5 [==============================] - 262s 52s/step - loss: 0.6927 - acc: 0.9815\n",
            "Epoch 3/5\n",
            "5/5 [==============================] - 263s 53s/step - loss: 0.6923 - acc: 0.9817\n",
            "Epoch 4/5\n",
            "5/5 [==============================] - 263s 53s/step - loss: 0.6916 - acc: 0.9817\n",
            "Epoch 5/5\n",
            "5/5 [==============================] - 263s 53s/step - loss: 0.6909 - acc: 0.9817\n"
          ],
          "name": "stdout"
        },
        {
          "output_type": "execute_result",
          "data": {
            "text/plain": [
              "<keras.callbacks.History at 0xb48dcbda0>"
            ]
          },
          "metadata": {
            "tags": []
          },
          "execution_count": 5
        }
      ]
    }
  ]
}